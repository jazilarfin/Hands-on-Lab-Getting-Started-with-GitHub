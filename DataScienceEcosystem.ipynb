{
 "cells": [
  {
   "cell_type": "markdown",
   "id": "2b4220fa-b671-4a83-8fa2-78a47d7f80f4",
   "metadata": {},
   "source": [
    "# Data Science Tools and Ecosystem"
   ]
  },
  {
   "cell_type": "markdown",
   "id": "bd524153-35f6-42f9-8c58-f58378b7d3e0",
   "metadata": {},
   "source": [
    "## Author:\n",
    "Syed Jazil Arfin"
   ]
  },
  {
   "cell_type": "markdown",
   "id": "4702465c-4871-4942-8215-811940f8329e",
   "metadata": {},
   "source": [
    "## In this notebook, Data Science Tools and Ecosystem are summarized."
   ]
  },
  {
   "cell_type": "markdown",
   "id": "ffc429de-c9e3-4a81-8e0b-3e1e85d66dea",
   "metadata": {},
   "source": [
    "### **Objectives:**\n",
    "<ul>\n",
    "    <li>List popular languages for Data Science</li>\n",
    "    <li>Create a markdown cell with the title of the notebook</li>\n",
    "    <li>Create a markdown cell for an introduction.</li> \n",
    "</ul>\n",
    "\n",
    "\n"
   ]
  },
  {
   "cell_type": "markdown",
   "id": "01147a08-6b0a-4dcf-aa05-911f85847a36",
   "metadata": {},
   "source": [
    "### Some of the popular languages that Data Scientists use are:\n",
    "1. Python\n",
    "2. R\n",
    "3. Scala\n"
   ]
  },
  {
   "cell_type": "markdown",
   "id": "468a8375-dfe7-4fa6-adc7-a85fbe8ba71a",
   "metadata": {},
   "source": [
    "### Some of the commonly used libraries used by Data Scientists include:\n",
    "1. matplotlib\n",
    "2. numpy\n",
    "3. pandas"
   ]
  },
  {
   "cell_type": "markdown",
   "id": "ffcd5f5e-1393-40e0-a2d8-b4f220cce6c2",
   "metadata": {},
   "source": [
    "| DataScience Tools |\n",
    "| :- |\n",
    "| Rstudio |\n",
    "| Jupyter Lab |\n",
    "| VS Code(with python) |\n"
   ]
  },
  {
   "cell_type": "markdown",
   "id": "e8fc732a-c8b4-4e77-931c-081442abc0be",
   "metadata": {},
   "source": [
    "### Below are a few examples of evaluating arithmetic expressions in Python\n",
    "1. print(5 + 3)\n",
    "2. print(10 - 4)      \n",
    "3. print(6 * 7)       \n",
    "4. print(20 / 5)      \n",
    "5. print(20 // 5)     \n",
    "6. print(17 % 5)\n",
    "7. print(2 ** 3)  "
   ]
  },
  {
   "cell_type": "code",
   "execution_count": 3,
   "id": "fd0afe2c-6d9c-4005-910b-071d12907ac9",
   "metadata": {},
   "outputs": [
    {
     "data": {
      "text/plain": [
       "17"
      ]
     },
     "execution_count": 3,
     "metadata": {},
     "output_type": "execute_result"
    }
   ],
   "source": [
    "# This a simple arithmetic expression to mutiply then add integers\n",
    "(3*4)+5\n"
   ]
  },
  {
   "cell_type": "code",
   "execution_count": 6,
   "id": "72da37fa-d093-4a99-84cf-07ff75bfd3bd",
   "metadata": {},
   "outputs": [
    {
     "name": "stdout",
     "output_type": "stream",
     "text": [
      "3.3333333333333335\n"
     ]
    }
   ],
   "source": [
    "# This will convert 200 minutes to hours by diving by 60\n",
    "minutes = 200\n",
    "hours = 200/60\n",
    "print(hours)"
   ]
  },
  {
   "cell_type": "code",
   "execution_count": null,
   "id": "7fa45856-55f5-495b-a373-9acc9ec58d65",
   "metadata": {},
   "outputs": [],
   "source": []
  }
 ],
 "metadata": {
  "kernelspec": {
   "display_name": "Python 3 (ipykernel)",
   "language": "python",
   "name": "python3"
  },
  "language_info": {
   "codemirror_mode": {
    "name": "ipython",
    "version": 3
   },
   "file_extension": ".py",
   "mimetype": "text/x-python",
   "name": "python",
   "nbconvert_exporter": "python",
   "pygments_lexer": "ipython3",
   "version": "3.13.5"
  }
 },
 "nbformat": 4,
 "nbformat_minor": 5
}
